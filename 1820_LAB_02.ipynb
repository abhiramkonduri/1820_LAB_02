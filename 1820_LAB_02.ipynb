{
  "nbformat": 4,
  "nbformat_minor": 0,
  "metadata": {
    "colab": {
      "provenance": []
    },
    "kernelspec": {
      "name": "python3",
      "display_name": "Python 3"
    },
    "language_info": {
      "name": "python"
    }
  },
  "cells": [
    {
      "cell_type": "code",
      "source": [
        "# Download NLTK data\n",
        "nltk.download('punkt_tab')\n",
        "nltk.download('wordnet')\n",
        "nltk.download('omw-1.4')"
      ],
      "metadata": {
        "colab": {
          "base_uri": "https://localhost:8080/"
        },
        "id": "Nun2ln2BLUL5",
        "outputId": "4480ef9d-c328-4357-90cb-5b79ec15ba6a"
      },
      "execution_count": 6,
      "outputs": [
        {
          "output_type": "stream",
          "name": "stderr",
          "text": [
            "[nltk_data] Downloading package punkt_tab to /root/nltk_data...\n",
            "[nltk_data]   Unzipping tokenizers/punkt_tab.zip.\n",
            "[nltk_data] Downloading package wordnet to /root/nltk_data...\n",
            "[nltk_data]   Package wordnet is already up-to-date!\n",
            "[nltk_data] Downloading package omw-1.4 to /root/nltk_data...\n"
          ]
        },
        {
          "output_type": "execute_result",
          "data": {
            "text/plain": [
              "True"
            ]
          },
          "metadata": {},
          "execution_count": 6
        }
      ]
    },
    {
      "cell_type": "code",
      "source": [
        "# Import necessary libraries\n",
        "import nltk\n",
        "from nltk.tokenize import word_tokenize\n",
        "from nltk.stem import PorterStemmer, SnowballStemmer\n",
        "from nltk.stem import WordNetLemmatizer"
      ],
      "metadata": {
        "id": "1QJqLKyKLV94"
      },
      "execution_count": 7,
      "outputs": []
    },
    {
      "cell_type": "code",
      "source": [
        "# Sample text for analysis\n",
        "sample_text = \"The foxes are running swiftly through the forests, searching for food and shelter.\"\n",
        "\n",
        "# Step 1: Tokenization\n",
        "tokens = word_tokenize(sample_text)\n",
        "print(\"Tokenized Words:\")\n",
        "print(tokens)"
      ],
      "metadata": {
        "id": "AMNDAhZ3LZPN"
      },
      "execution_count": null,
      "outputs": []
    },
    {
      "cell_type": "code",
      "source": [
        "from nltk.stem import PorterStemmer, SnowballStemmer\n",
        "from nltk.tokenize import word_tokenize\n",
        "\n",
        "text = \"running runs ran easily\"\n",
        "\n",
        "tokens = word_tokenize(text)\n",
        "\n",
        "porter_stemmer = PorterStemmer()\n",
        "snowball_stemmer = SnowballStemmer(\"english\")\n",
        "\n",
        "porter_stems = [porter_stemmer.stem(word) for word in tokens]\n",
        "snowball_stems = [snowball_stemmer.stem(word) for word in tokens]\n",
        "\n",
        "print(\"\\nPorter Stemmer Results:\")\n",
        "print(porter_stems)\n",
        "\n",
        "print(\"\\nSnowball Stemmer Results:\")\n",
        "print(snowball_stems)\n"
      ],
      "metadata": {
        "colab": {
          "base_uri": "https://localhost:8080/"
        },
        "id": "3Df7EpIYLb3k",
        "outputId": "f12f7310-7fe9-4067-afa4-edbd61c6d7a4"
      },
      "execution_count": 12,
      "outputs": [
        {
          "output_type": "stream",
          "name": "stdout",
          "text": [
            "\n",
            "Porter Stemmer Results:\n",
            "['run', 'run', 'ran', 'easili']\n",
            "\n",
            "Snowball Stemmer Results:\n",
            "['run', 'run', 'ran', 'easili']\n"
          ]
        }
      ]
    },
    {
      "cell_type": "code",
      "source": [
        "from nltk.stem import PorterStemmer, SnowballStemmer\n",
        "from nltk.tokenize import word_tokenize\n",
        "from nltk.stem import WordNetLemmatizer\n",
        "\n",
        "# Sample text to demonstrate\n",
        "text = \"running runs ran easily\"\n",
        "\n",
        "# Tokenize the text\n",
        "tokens = word_tokenize(text)\n",
        "\n",
        "# Initialize stemmers and lemmatizer\n",
        "porter_stemmer = PorterStemmer()\n",
        "snowball_stemmer = SnowballStemmer(\"english\")\n",
        "lemmatizer = WordNetLemmatizer()\n",
        "\n",
        "# Apply stemming with Porter and Snowball stemmers\n",
        "porter_stems = [porter_stemmer.stem(word) for word in tokens]\n",
        "snowball_stems = [snowball_stemmer.stem(word) for word in tokens]\n",
        "\n",
        "# Apply lemmatization\n",
        "lemmatized_words = [lemmatizer.lemmatize(word) for word in tokens]\n",
        "\n",
        "# Print results\n",
        "print(\"\\nPorter Stemmer Results:\")\n",
        "print(porter_stems)\n",
        "\n",
        "print(\"\\nSnowball Stemmer Results:\")\n",
        "print(snowball_stems)\n",
        "\n",
        "print(\"\\nLemmatized Words:\")\n",
        "print(lemmatized_words)\n"
      ],
      "metadata": {
        "colab": {
          "base_uri": "https://localhost:8080/"
        },
        "id": "pJlx6Uc5LeQs",
        "outputId": "02084828-b502-4a0d-cfb8-affe40eb7795"
      },
      "execution_count": 13,
      "outputs": [
        {
          "output_type": "stream",
          "name": "stdout",
          "text": [
            "\n",
            "Porter Stemmer Results:\n",
            "['run', 'run', 'ran', 'easili']\n",
            "\n",
            "Snowball Stemmer Results:\n",
            "['run', 'run', 'ran', 'easili']\n",
            "\n",
            "Lemmatized Words:\n",
            "['running', 'run', 'ran', 'easily']\n"
          ]
        }
      ]
    },
    {
      "cell_type": "code",
      "source": [
        "from nltk.stem import PorterStemmer, SnowballStemmer\n",
        "from nltk.tokenize import word_tokenize\n",
        "from nltk.stem import WordNetLemmatizer\n",
        "\n",
        "# Sample text to demonstrate\n",
        "text = \"running runs ran easily\"\n",
        "\n",
        "# Tokenize the text\n",
        "tokens = word_tokenize(text)\n",
        "\n",
        "# Initialize stemmers and lemmatizer\n",
        "porter_stemmer = PorterStemmer()\n",
        "snowball_stemmer = SnowballStemmer(\"english\")\n",
        "lemmatizer = WordNetLemmatizer()\n",
        "\n",
        "# Apply stemming with Porter and Snowball stemmers\n",
        "porter_stems = [porter_stemmer.stem(word) for word in tokens]\n",
        "snowball_stems = [snowball_stemmer.stem(word) for word in tokens]\n",
        "\n",
        "# Apply lemmatization\n",
        "lemmatized_words = [lemmatizer.lemmatize(word) for word in tokens]\n",
        "\n",
        "# Comparative understanding\n",
        "print(\"\\nComparison of Original Words, Stemming (Porter), and Lemmatization:\")\n",
        "for word, porter, lemma in zip(tokens, porter_stems, lemmatized_words):\n",
        "    print(f\"Original: {word}   , Porter Stem: {porter}   , Lemma: {lemma}\")\n"
      ],
      "metadata": {
        "colab": {
          "base_uri": "https://localhost:8080/"
        },
        "id": "RqMMoF5ELknj",
        "outputId": "9093df6b-1a16-4f77-b7a9-cf5ca24769e4"
      },
      "execution_count": 14,
      "outputs": [
        {
          "output_type": "stream",
          "name": "stdout",
          "text": [
            "\n",
            "Comparison of Original Words, Stemming (Porter), and Lemmatization:\n",
            "Original: running   , Porter Stem: run   , Lemma: running\n",
            "Original: runs   , Porter Stem: run   , Lemma: run\n",
            "Original: ran   , Porter Stem: ran   , Lemma: ran\n",
            "Original: easily   , Porter Stem: easili   , Lemma: easily\n"
          ]
        }
      ]
    }
  ]
}